{
 "cells": [
  {
   "cell_type": "markdown",
   "metadata": {},
   "source": [
    "#### Ad Soyad:"
   ]
  },
  {
   "cell_type": "markdown",
   "metadata": {},
   "source": []
  },
  {
   "cell_type": "code",
   "execution_count": null,
   "metadata": {},
   "outputs": [],
   "source": [
    "import pandas as pd"
   ]
  },
  {
   "cell_type": "markdown",
   "metadata": {},
   "source": [
    "### 0. MarketSales.xlsx dosyasını linkten indirin: https://www.kaggle.com/omercolakoglu/turkish-market-sales-dataset-with-9000items"
   ]
  },
  {
   "cell_type": "code",
   "execution_count": 2,
   "metadata": {},
   "outputs": [],
   "source": [
    "df = pd.read_excel('MarketSales.xlsx')\n",
    "df['DATE_'] = pd.to_datetime(df['DATE_'])"
   ]
  },
  {
   "cell_type": "code",
   "execution_count": 3,
   "metadata": {},
   "outputs": [
    {
     "data": {
      "text/html": [
       "<div>\n",
       "<style scoped>\n",
       "    .dataframe tbody tr th:only-of-type {\n",
       "        vertical-align: middle;\n",
       "    }\n",
       "\n",
       "    .dataframe tbody tr th {\n",
       "        vertical-align: top;\n",
       "    }\n",
       "\n",
       "    .dataframe thead th {\n",
       "        text-align: right;\n",
       "    }\n",
       "</style>\n",
       "<table border=\"1\" class=\"dataframe\">\n",
       "  <thead>\n",
       "    <tr style=\"text-align: right;\">\n",
       "      <th></th>\n",
       "      <th>ID</th>\n",
       "      <th>ITEMCODE</th>\n",
       "      <th>ITEMNAME</th>\n",
       "      <th>FICHENO</th>\n",
       "      <th>DATE_</th>\n",
       "      <th>AMOUNT</th>\n",
       "      <th>PRICE</th>\n",
       "      <th>LINENETTOTAL</th>\n",
       "      <th>LINENET</th>\n",
       "      <th>BRANCHNR</th>\n",
       "      <th>...</th>\n",
       "      <th>CLIENTCODE</th>\n",
       "      <th>CLIENTNAME</th>\n",
       "      <th>BRANDCODE</th>\n",
       "      <th>BRAND</th>\n",
       "      <th>CATEGORY_NAME1</th>\n",
       "      <th>CATEGORY_NAME2</th>\n",
       "      <th>CATEGORY_NAME3</th>\n",
       "      <th>STARTDATE</th>\n",
       "      <th>ENDDATE</th>\n",
       "      <th>GENDER</th>\n",
       "    </tr>\n",
       "  </thead>\n",
       "  <tbody>\n",
       "    <tr>\n",
       "      <th>0</th>\n",
       "      <td>11738.0</td>\n",
       "      <td>5863.0</td>\n",
       "      <td>SPRITE 1 LT LIMON AROMALI GAZOZ</td>\n",
       "      <td>18456</td>\n",
       "      <td>2017-01-07</td>\n",
       "      <td>1.0</td>\n",
       "      <td>2.00</td>\n",
       "      <td>2.00</td>\n",
       "      <td>1.85</td>\n",
       "      <td>52.0</td>\n",
       "      <td>...</td>\n",
       "      <td>467369</td>\n",
       "      <td>Sercan KIZILOK</td>\n",
       "      <td>156</td>\n",
       "      <td>SPRİTE</td>\n",
       "      <td>İÇECEK</td>\n",
       "      <td>GAZLI İÇECEK</td>\n",
       "      <td>GAZOZ</td>\n",
       "      <td>2017-01-08 16:16:11</td>\n",
       "      <td>2017-01-08 16:17:13</td>\n",
       "      <td>E</td>\n",
       "    </tr>\n",
       "    <tr>\n",
       "      <th>1</th>\n",
       "      <td>10537.0</td>\n",
       "      <td>8.0</td>\n",
       "      <td>TOZ SEKER</td>\n",
       "      <td>18105</td>\n",
       "      <td>2017-01-06</td>\n",
       "      <td>5.0</td>\n",
       "      <td>2.65</td>\n",
       "      <td>13.25</td>\n",
       "      <td>12.27</td>\n",
       "      <td>8.0</td>\n",
       "      <td>...</td>\n",
       "      <td>131464</td>\n",
       "      <td>İsmet ŞINGIR</td>\n",
       "      <td>NaN</td>\n",
       "      <td>NaN</td>\n",
       "      <td>İÇECEK</td>\n",
       "      <td>ÇAY KAHVE</td>\n",
       "      <td>SEKER TATLANDIRICI</td>\n",
       "      <td>2017-01-07 11:04:34</td>\n",
       "      <td>2017-01-07 11:05:37</td>\n",
       "      <td>E</td>\n",
       "    </tr>\n",
       "    <tr>\n",
       "      <th>2</th>\n",
       "      <td>11335.0</td>\n",
       "      <td>5979.0</td>\n",
       "      <td>FALIM SAKIZ 5LI NANE</td>\n",
       "      <td>18350</td>\n",
       "      <td>2017-01-03</td>\n",
       "      <td>1.0</td>\n",
       "      <td>0.40</td>\n",
       "      <td>0.40</td>\n",
       "      <td>0.37</td>\n",
       "      <td>40.0</td>\n",
       "      <td>...</td>\n",
       "      <td>656969</td>\n",
       "      <td>Yağız KUBAL</td>\n",
       "      <td>300</td>\n",
       "      <td>FALIM</td>\n",
       "      <td>GIDA</td>\n",
       "      <td>SAKIZ SEKERLEME</td>\n",
       "      <td>SAKIZ</td>\n",
       "      <td>2017-01-04 14:00:03</td>\n",
       "      <td>2017-01-04 14:01:01</td>\n",
       "      <td>E</td>\n",
       "    </tr>\n",
       "    <tr>\n",
       "      <th>3</th>\n",
       "      <td>11336.0</td>\n",
       "      <td>5979.0</td>\n",
       "      <td>FALIM SAKIZ 5LI NANE</td>\n",
       "      <td>18350</td>\n",
       "      <td>2017-01-03</td>\n",
       "      <td>1.0</td>\n",
       "      <td>0.40</td>\n",
       "      <td>0.40</td>\n",
       "      <td>0.37</td>\n",
       "      <td>40.0</td>\n",
       "      <td>...</td>\n",
       "      <td>656969</td>\n",
       "      <td>Yağız KUBAL</td>\n",
       "      <td>300</td>\n",
       "      <td>FALIM</td>\n",
       "      <td>GIDA</td>\n",
       "      <td>SAKIZ SEKERLEME</td>\n",
       "      <td>SAKIZ</td>\n",
       "      <td>2017-01-04 14:00:03</td>\n",
       "      <td>2017-01-04 14:01:01</td>\n",
       "      <td>E</td>\n",
       "    </tr>\n",
       "    <tr>\n",
       "      <th>4</th>\n",
       "      <td>10115.0</td>\n",
       "      <td>12808.0</td>\n",
       "      <td>FALIM SAKIZ 5LI CILEK</td>\n",
       "      <td>18005</td>\n",
       "      <td>2017-01-05</td>\n",
       "      <td>1.0</td>\n",
       "      <td>0.40</td>\n",
       "      <td>0.40</td>\n",
       "      <td>0.37</td>\n",
       "      <td>41.0</td>\n",
       "      <td>...</td>\n",
       "      <td>447336</td>\n",
       "      <td>Habibe AYSAN</td>\n",
       "      <td>300</td>\n",
       "      <td>FALIM</td>\n",
       "      <td>GIDA</td>\n",
       "      <td>SAKIZ SEKERLEME</td>\n",
       "      <td>SAKIZ</td>\n",
       "      <td>2017-01-06 14:00:30</td>\n",
       "      <td>2017-01-06 14:01:03</td>\n",
       "      <td>K</td>\n",
       "    </tr>\n",
       "  </tbody>\n",
       "</table>\n",
       "<p>5 rows × 26 columns</p>\n",
       "</div>"
      ],
      "text/plain": [
       "        ID  ITEMCODE                         ITEMNAME  FICHENO      DATE_  \\\n",
       "0  11738.0    5863.0  SPRITE 1 LT LIMON AROMALI GAZOZ    18456 2017-01-07   \n",
       "1  10537.0       8.0                        TOZ SEKER    18105 2017-01-06   \n",
       "2  11335.0    5979.0             FALIM SAKIZ 5LI NANE    18350 2017-01-03   \n",
       "3  11336.0    5979.0             FALIM SAKIZ 5LI NANE    18350 2017-01-03   \n",
       "4  10115.0   12808.0            FALIM SAKIZ 5LI CILEK    18005 2017-01-05   \n",
       "\n",
       "   AMOUNT  PRICE  LINENETTOTAL  LINENET  BRANCHNR  ... CLIENTCODE  \\\n",
       "0     1.0   2.00          2.00     1.85      52.0  ...     467369   \n",
       "1     5.0   2.65         13.25    12.27       8.0  ...     131464   \n",
       "2     1.0   0.40          0.40     0.37      40.0  ...     656969   \n",
       "3     1.0   0.40          0.40     0.37      40.0  ...     656969   \n",
       "4     1.0   0.40          0.40     0.37      41.0  ...     447336   \n",
       "\n",
       "       CLIENTNAME BRANDCODE   BRAND  CATEGORY_NAME1   CATEGORY_NAME2  \\\n",
       "0  Sercan KIZILOK       156  SPRİTE          İÇECEK     GAZLI İÇECEK   \n",
       "1    İsmet ŞINGIR       NaN     NaN          İÇECEK        ÇAY KAHVE   \n",
       "2     Yağız KUBAL       300   FALIM            GIDA  SAKIZ SEKERLEME   \n",
       "3     Yağız KUBAL       300   FALIM            GIDA  SAKIZ SEKERLEME   \n",
       "4    Habibe AYSAN       300   FALIM            GIDA  SAKIZ SEKERLEME   \n",
       "\n",
       "       CATEGORY_NAME3           STARTDATE             ENDDATE GENDER  \n",
       "0               GAZOZ 2017-01-08 16:16:11 2017-01-08 16:17:13      E  \n",
       "1  SEKER TATLANDIRICI 2017-01-07 11:04:34 2017-01-07 11:05:37      E  \n",
       "2               SAKIZ 2017-01-04 14:00:03 2017-01-04 14:01:01      E  \n",
       "3               SAKIZ 2017-01-04 14:00:03 2017-01-04 14:01:01      E  \n",
       "4               SAKIZ 2017-01-06 14:00:30 2017-01-06 14:01:03      K  \n",
       "\n",
       "[5 rows x 26 columns]"
      ]
     },
     "execution_count": 3,
     "metadata": {},
     "output_type": "execute_result"
    }
   ],
   "source": [
    "df.head()"
   ]
  },
  {
   "cell_type": "markdown",
   "metadata": {},
   "source": [
    "### 1. Veri setini inceleyin ve kolonları anlamaya çalışın. Bu adımda bir çıktı/kod göstermek zorunda değilsiniz. Sadece veriyi anlamak için..."
   ]
  },
  {
   "cell_type": "code",
   "execution_count": 57,
   "metadata": {},
   "outputs": [
    {
     "data": {
      "text/plain": [
       "Index(['ID', 'ITEMCODE', 'ITEMNAME', 'FICHENO', 'DATE_', 'AMOUNT', 'PRICE',\n",
       "       'LINENETTOTAL', 'LINENET', 'BRANCHNR', 'BRANCH', 'SALESMAN', 'CITY',\n",
       "       'REGION', 'LATITUDE', 'LONGITUDE', 'CLIENTCODE', 'CLIENTNAME',\n",
       "       'BRANDCODE', 'BRAND', 'CATEGORY_NAME1', 'CATEGORY_NAME2',\n",
       "       'CATEGORY_NAME3', 'STARTDATE', 'ENDDATE', 'GENDER'],\n",
       "      dtype='object')"
      ]
     },
     "execution_count": 57,
     "metadata": {},
     "output_type": "execute_result"
    }
   ],
   "source": [
    "df.columns"
   ]
  },
  {
   "cell_type": "markdown",
   "metadata": {},
   "source": [
    "Mesela 7 numaralı şubede günlük toplam tereyağ satış miktarını şu şekilde görüyoruz:"
   ]
  },
  {
   "cell_type": "code",
   "execution_count": 35,
   "metadata": {},
   "outputs": [
    {
     "data": {
      "text/plain": [
       "DATE_\n",
       "2017-01-04    1.0\n",
       "2017-01-05    1.0\n",
       "2017-01-06    1.0\n",
       "2017-01-07    5.0\n",
       "2017-01-08    2.0\n",
       "             ... \n",
       "2017-03-27    2.0\n",
       "2017-03-28    2.0\n",
       "2017-03-29    1.0\n",
       "2017-03-30    3.0\n",
       "2017-03-31    2.0\n",
       "Name: AMOUNT, Length: 74, dtype: float64"
      ]
     },
     "execution_count": 35,
     "metadata": {},
     "output_type": "execute_result"
    }
   ],
   "source": [
    "df[(df['BRANCHNR']==7) & (df['CATEGORY_NAME3']=='TEREYAĞ')].groupby('DATE_').sum()['AMOUNT']"
   ]
  },
  {
   "cell_type": "markdown",
   "metadata": {},
   "source": [
    "656969 numaralı müşterinin alışveriş başına harcadığı miktarları şu şekilde görebiliriz:"
   ]
  },
  {
   "cell_type": "code",
   "execution_count": 49,
   "metadata": {},
   "outputs": [
    {
     "data": {
      "text/plain": [
       "DATE_\n",
       "2017-01-08    101.67\n",
       "2017-01-19      4.75\n",
       "2017-02-19      2.30\n",
       "2017-02-25     97.22\n",
       "2017-03-08    363.40\n",
       "2017-03-31      7.95\n",
       "Name: PRICE, dtype: float64"
      ]
     },
     "execution_count": 49,
     "metadata": {},
     "output_type": "execute_result"
    }
   ],
   "source": [
    "df[(df['CLIENTCODE']=='461524')].groupby('DATE_').sum()['PRICE']"
   ]
  },
  {
   "cell_type": "markdown",
   "metadata": {},
   "source": [
    "Şubeleri ve her bir şubenin kaç dataya sahip olduğunu görmek için:"
   ]
  },
  {
   "cell_type": "code",
   "execution_count": 58,
   "metadata": {},
   "outputs": [
    {
     "data": {
      "text/plain": [
       "İstanbul Subesi     113622\n",
       "Ankara Subesi        40695\n",
       "İzmir Subesi         32328\n",
       "Bursa Subesi         21215\n",
       "Antalya Subesi       17371\n",
       "                     ...  \n",
       "Kilis Subesi          1195\n",
       "Gümüşhane Subesi      1187\n",
       "Ardahan Subesi         734\n",
       "Tunceli Subesi         563\n",
       "Bayburt Subesi         528\n",
       "Name: BRANCH, Length: 81, dtype: int64"
      ]
     },
     "execution_count": 58,
     "metadata": {},
     "output_type": "execute_result"
    }
   ],
   "source": [
    "df['BRANCH'].value_counts()"
   ]
  },
  {
   "cell_type": "code",
   "execution_count": null,
   "metadata": {},
   "outputs": [],
   "source": []
  },
  {
   "cell_type": "markdown",
   "metadata": {},
   "source": [
    "### 2.a. En çok para harcayan müşteriyi (CLIENTCODE ve CLIENTNAME) bulunuz. Bu müşterinin en çok harcama yaptığı kategorileri (CATEGORY_NAME1, CATEGORY_NAME2, CATEGORY_NAME3 için ayrı ayrı) gösteriniz. Pie chart veya bar chart ile görselleştirme yapınız."
   ]
  },
  {
   "cell_type": "code",
   "execution_count": null,
   "metadata": {},
   "outputs": [],
   "source": []
  },
  {
   "cell_type": "markdown",
   "metadata": {},
   "source": [
    "### 2.b. Toplam cirosu en fazla olan mağazayı bulunuz. Bu mağazada en çok satılan kategorileri (CATEGORY_NAME1, CATEGORY_NAME2, CATEGORY_NAME3 için ayrı ayrı) gösteriniz.  Pie chart veya bar chart ile görselleştirme yapınız."
   ]
  },
  {
   "cell_type": "code",
   "execution_count": null,
   "metadata": {},
   "outputs": [],
   "source": []
  },
  {
   "cell_type": "markdown",
   "metadata": {},
   "source": [
    "### 2.c. Satışı en fazla olan 3 ürünü (ITEMNAME) bulunuz. Bu ürünleri en çok satın alan (AMOUNT) 3 müşteriyi (CLIENTCODE ve CLIENTNAME) gösteriniz. Bu ürünün en fazla satıldığı 3 şubeyi (BRANCHNR ve BRANCH) bulunuz.  Pie chart veya bar chart ile görselleştirme yapınız.\n",
    "\n",
    "### [Toplamda 9 müşteri ve 9 mağaza bulacaksınız.]"
   ]
  },
  {
   "cell_type": "code",
   "execution_count": null,
   "metadata": {},
   "outputs": [],
   "source": []
  },
  {
   "cell_type": "markdown",
   "metadata": {},
   "source": [
    "### 2.d. Satışı en fazla olan 3 markayı (BRAND) bulunuz. Her bir marka için ayrı ayrı olmak üzere, bu markaları en çok tüketen (AMOUNT) 3 müşteriyi (CLIENTCODE ve CLIENTNAME) gösteriniz. Bu markaların en fazla satıldığı 3 şubeyi (BRANCHNR ve BRANCH) bulunuz. Pie chart veya bar chart ile görselleştirme yapınız.\n",
    "\n",
    "### [Toplamda 9 müşteri ve 9 mağaza bulacaksınız.]"
   ]
  },
  {
   "cell_type": "code",
   "execution_count": null,
   "metadata": {},
   "outputs": [],
   "source": []
  },
  {
   "cell_type": "markdown",
   "metadata": {},
   "source": [
    "### 2.e. En çok ürünün satıldığı 3 tarihi bulunuz. Bu tarihler için ayrı ayrı en çok satılan 3 ürünü gösteriniz. Pie chart veya bar chart ile görselleştirme yapınız.\n",
    "### [Toplamda 9 ürün göstereceksiniz.]"
   ]
  },
  {
   "cell_type": "code",
   "execution_count": null,
   "metadata": {},
   "outputs": [],
   "source": []
  },
  {
   "cell_type": "markdown",
   "metadata": {},
   "source": [
    "### 3.a. En fazla işlem yapan şubeyi bulunuz. (İpucu: FICHENO üzerinden gruplayarak bulunabilir.)"
   ]
  },
  {
   "cell_type": "code",
   "execution_count": 55,
   "metadata": {
    "scrolled": true
   },
   "outputs": [
    {
     "name": "stdout",
     "output_type": "stream",
     "text": [
      "52.0 3271\n",
      "8.0 4050\n",
      "40.0 26360\n",
      "41.0 7507\n",
      "29.0 972\n",
      "55.0 1411\n",
      "56.0 2464\n",
      "59.0 1577\n",
      "60.0 702\n",
      "1.0 3884\n",
      "66.0 1696\n",
      "81.0 3347\n",
      "12.0 2106\n",
      "48.0 503\n",
      "33.0 3494\n",
      "64.0 922\n",
      "58.0 2974\n",
      "46.0 611\n",
      "14.0 1011\n",
      "73.0 1737\n",
      "71.0 3440\n",
      "62.0 576\n",
      "7.0 9440\n",
      "32.0 1435\n",
      "26.0 2946\n",
      "38.0 334\n",
      "39.0 824\n",
      "21.0 5144\n",
      "42.0 1915\n",
      "25.0 1787\n",
      "57.0 1374\n",
      "3.0 1248\n",
      "31.0 1343\n",
      "70.0 1019\n",
      "37.0 2736\n",
      "63.0 1253\n",
      "72.0 881\n",
      "77.0 652\n",
      "53.0 3763\n",
      "24.0 982\n",
      "67.0 2283\n",
      "28.0 671\n",
      "22.0 870\n",
      "47.0 2358\n",
      "11.0 1887\n",
      "19.0 548\n",
      "34.0 755\n",
      "74.0 1092\n",
      "2.0 1013\n",
      "50.0 440\n",
      "80.0 705\n",
      "75.0 1301\n",
      "78.0 1967\n",
      "4.0 923\n",
      "54.0 986\n",
      "45.0 475\n",
      "35.0 287\n",
      "69.0 360\n",
      "61.0 505\n",
      "43.0 401\n",
      "15.0 123\n",
      "6.0 633\n",
      "68.0 526\n",
      "20.0 470\n",
      "5.0 729\n",
      "65.0 576\n",
      "10.0 301\n",
      "49.0 636\n",
      "36.0 504\n",
      "27.0 601\n",
      "51.0 272\n",
      "16.0 373\n",
      "30.0 417\n",
      "23.0 345\n",
      "13.0 329\n",
      "79.0 405\n",
      "18.0 617\n",
      "44.0 434\n",
      "17.0 483\n",
      "nan 0\n",
      "9.0 175\n",
      "76.0 144\n"
     ]
    }
   ],
   "source": [
    "for bnr in df.BRANCHNR.unique():\n",
    "    print(bnr,len(df[df.BRANCHNR==bnr].groupby('FICHENO').sum()))"
   ]
  },
  {
   "cell_type": "code",
   "execution_count": null,
   "metadata": {},
   "outputs": [],
   "source": []
  },
  {
   "cell_type": "markdown",
   "metadata": {},
   "source": [
    "### 3.b. 3.a'da bulduğunuz şubeyi tarihe göre gruplandırın ve CATEGORY_NAME3'ten bir ürün grubu seçin. Burada tamamen özgürsünüz. Aşağıda rastgele bir şube ve ürün grubuyla bir örnek gösterilmiştir.\n",
    "\n",
    "### Bu ürünün satış miktarı (AMOUNT) üzerinden bir LSTM tahmin yapısı kurun. Verinin %80'ini train, %20'sini test datası olarak kullanın. MSE değerini gösterin ve train-test-prediction datalarını içeren grafiği çizin.\n",
    "\n",
    "### LSTM için farklı lookback (history) değerleri ve neural network size'ı seçebilirsiniz. Bulduğunuz en optimal değeri gösteriniz.\n",
    "\n",
    "### Özellikle test ve prediction datasını üst üste çizdirin."
   ]
  },
  {
   "cell_type": "code",
   "execution_count": 56,
   "metadata": {},
   "outputs": [
    {
     "data": {
      "text/plain": [
       "DATE_\n",
       "2017-01-04    1.0\n",
       "2017-01-05    1.0\n",
       "2017-01-06    1.0\n",
       "2017-01-07    5.0\n",
       "2017-01-08    2.0\n",
       "             ... \n",
       "2017-03-27    2.0\n",
       "2017-03-28    2.0\n",
       "2017-03-29    1.0\n",
       "2017-03-30    3.0\n",
       "2017-03-31    2.0\n",
       "Name: AMOUNT, Length: 74, dtype: float64"
      ]
     },
     "execution_count": 56,
     "metadata": {},
     "output_type": "execute_result"
    }
   ],
   "source": [
    "df[(df['BRANCHNR']==7) & (df['CATEGORY_NAME3']=='TEREYAĞ')].groupby('DATE_').sum()['AMOUNT']"
   ]
  },
  {
   "cell_type": "code",
   "execution_count": null,
   "metadata": {},
   "outputs": [],
   "source": []
  },
  {
   "cell_type": "markdown",
   "metadata": {},
   "source": [
    "### 3.c. 3.b.'deki örnekte seçtiğiniz şube ve ürün grubu için LSTM yerine FBProphet ile tahminleme yapın. Prophet'in grafiklerini çizdirin.\n",
    "\n",
    "### Özellikle test ve prediction datasını üst üste çizdirin."
   ]
  },
  {
   "cell_type": "code",
   "execution_count": null,
   "metadata": {},
   "outputs": [],
   "source": []
  },
  {
   "cell_type": "markdown",
   "metadata": {},
   "source": [
    "### 4. Hangi model daha iyi sonuç vermiştir? Neden? Sonuçlarınızı tartışınız."
   ]
  },
  {
   "cell_type": "markdown",
   "metadata": {},
   "source": []
  },
  {
   "cell_type": "code",
   "execution_count": null,
   "metadata": {},
   "outputs": [],
   "source": []
  }
 ],
 "metadata": {
  "kernelspec": {
   "display_name": "Python 3",
   "language": "python",
   "name": "python3"
  },
  "language_info": {
   "codemirror_mode": {
    "name": "ipython",
    "version": 3
   },
   "file_extension": ".py",
   "mimetype": "text/x-python",
   "name": "python",
   "nbconvert_exporter": "python",
   "pygments_lexer": "ipython3",
   "version": "3.7.6"
  }
 },
 "nbformat": 4,
 "nbformat_minor": 4
}
